{
 "cells": [
  {
   "cell_type": "code",
   "execution_count": 1,
   "metadata": {
    "collapsed": false
   },
   "outputs": [],
   "source": [
    "import matplotlib.pyplot as plt\n",
    "import numpy as np\n",
    "from graphtime import GroupFusedGraphLasso, IndepFusedGraphLasso\n",
    "from graphtime.utils import get_edges, get_change_points, plot_data_with_cps\n",
    "from graphtime.utils import precision, recall, f1_score"
   ]
  },
  {
   "cell_type": "code",
   "execution_count": 2,
   "metadata": {
    "collapsed": true
   },
   "outputs": [],
   "source": [
    "%matplotlib inline\n",
    "plt.rcParams['figure.figsize'] = (10.0, 7.0)"
   ]
  },
  {
   "cell_type": "code",
   "execution_count": 3,
   "metadata": {
    "collapsed": true
   },
   "outputs": [],
   "source": [
    "import warnings\n",
    "warnings.filterwarnings('ignore')"
   ]
  },
  {
   "cell_type": "code",
   "execution_count": 4,
   "metadata": {
    "collapsed": true
   },
   "outputs": [],
   "source": [
    "y = np.load('data/y.npy')\n",
    "sigma = np.load('data/sigma.npy')\n",
    "sigma_inv = np.load('data/sigma_inv.npy')\n",
    "T = 90 # Steps\n",
    "K = 2 # Changepoints\n",
    "P = 10 # Variables\n",
    "M = 5 # Active Edges\n",
    "eps = 0.000001 # Edge threshold epsilon"
   ]
  },
  {
   "cell_type": "code",
   "execution_count": 5,
   "metadata": {
    "collapsed": false
   },
   "outputs": [],
   "source": [
    "edges = get_edges(sigma_inv[0], eps, P)\n",
    "y_true = get_change_points(sigma_inv, eps, T, P)"
   ]
  },
  {
   "cell_type": "markdown",
   "metadata": {},
   "source": [
    "### Run Estimation with GFGL"
   ]
  },
  {
   "cell_type": "code",
   "execution_count": 6,
   "metadata": {
    "collapsed": false
   },
   "outputs": [],
   "source": [
    "verbose = False\n",
    "tol = 1e-4\n",
    "max_iter = 500\n",
    "gammas = [1, 1, 1] # gamma_V1, gamma_V2, gamma_W\n",
    "lambda1 = 0.15\n",
    "lambda2 = 25\n",
    "gfgl = GroupFusedGraphLasso(lambda1, lambda2, gammas[0], gammas[1], gammas[2], tol, max_iter, verbose)\n",
    "gfgl.fit(y);"
   ]
  },
  {
   "cell_type": "markdown",
   "metadata": {},
   "source": [
    "### F, Precision, Recall\n",
    "According to [this paper](https://projecteuclid.org/download/pdfview_1/euclid.ejs/1351865118), we treat graph\n",
    "recovery as a classification problem of edges. For the mathematical definition, see paper p.19."
   ]
  },
  {
   "cell_type": "code",
   "execution_count": 7,
   "metadata": {
    "collapsed": false
   },
   "outputs": [
    {
     "data": {
      "text/plain": [
       "0.11178451178451154"
      ]
     },
     "execution_count": 7,
     "metadata": {},
     "output_type": "execute_result"
    }
   ],
   "source": [
    "precision(gfgl.sparse_Theta, sigma_inv)"
   ]
  },
  {
   "cell_type": "code",
   "execution_count": 8,
   "metadata": {
    "collapsed": false
   },
   "outputs": [
    {
     "data": {
      "text/plain": [
       "1.0"
      ]
     },
     "execution_count": 8,
     "metadata": {},
     "output_type": "execute_result"
    }
   ],
   "source": [
    "recall(gfgl.sparse_Theta, sigma_inv)"
   ]
  },
  {
   "cell_type": "code",
   "execution_count": 9,
   "metadata": {
    "collapsed": false
   },
   "outputs": [
    {
     "data": {
      "text/plain": [
       "0.20109024833434244"
      ]
     },
     "execution_count": 9,
     "metadata": {},
     "output_type": "execute_result"
    }
   ],
   "source": [
    "f1_score(gfgl.sparse_Theta, sigma_inv)"
   ]
  },
  {
   "cell_type": "markdown",
   "metadata": {},
   "source": [
    "### Exhaustive Grid Search with performance estimation"
   ]
  },
  {
   "cell_type": "code",
   "execution_count": 10,
   "metadata": {
    "collapsed": true
   },
   "outputs": [],
   "source": [
    "def performance(G_est, G_true):\n",
    "    prec = precision(G_est, G_true)\n",
    "    rec = recall(G_est, G_true)\n",
    "    f1 = f1_score(G_est, G_true)\n",
    "    return prec, rec, f1"
   ]
  },
  {
   "cell_type": "code",
   "execution_count": 17,
   "metadata": {
    "collapsed": true
   },
   "outputs": [],
   "source": [
    "def grid_search(y, G_true, lam1s, lam2s, tol=1e-4, max_iter=500, gamma1=1, gamma2=1, gammaw=1):\n",
    "    performances = dict()\n",
    "    for lam1 in lam1s:\n",
    "        for lam2 in lam2s:\n",
    "            gfgl = GroupFusedGraphLasso(lam1, lam2, gamma1, gamma2, gammaw, tol, max_iter)\n",
    "            gfgl.fit(y)\n",
    "            performances[(lam1, lam2)] = performance(gfgl.sparse_Theta, G_true)\n",
    "    return performances"
   ]
  },
  {
   "cell_type": "code",
   "execution_count": 18,
   "metadata": {
    "collapsed": false
   },
   "outputs": [],
   "source": [
    "lam1s = [0.1, 0.15, 0.2]\n",
    "lam2s = [20, 25, 30]\n",
    "pfs = grid_search(y, sigma_inv, lam1s, lam2s)"
   ]
  },
  {
   "cell_type": "code",
   "execution_count": 20,
   "metadata": {
    "collapsed": false
   },
   "outputs": [
    {
     "data": {
      "text/plain": [
       "{(0.1, 20): (0.1111111111111109, 1.0, 0.19999999999999965),\n",
       " (0.1, 25): (0.11156004489337801, 1.0, 0.20072697899838413),\n",
       " (0.1, 30): (0.1111111111111109, 1.0, 0.19999999999999965),\n",
       " (0.15, 20): (0.11136363636363614, 1.0, 0.20040899795500985),\n",
       " (0.15, 25): (0.11178451178451154, 1.0, 0.20109024833434244),\n",
       " (0.15, 30): (0.1111111111111109, 1.0, 0.19999999999999965),\n",
       " (0.2, 20): (0.11136363636363614, 1.0, 0.20040899795500985),\n",
       " (0.2, 25): (0.11178451178451154, 1.0, 0.20109024833434244),\n",
       " (0.2, 30): (0.11189674523007832, 1.0, 0.20127182800040336)}"
      ]
     },
     "execution_count": 20,
     "metadata": {},
     "output_type": "execute_result"
    }
   ],
   "source": [
    "pfs"
   ]
  },
  {
   "cell_type": "code",
   "execution_count": null,
   "metadata": {
    "collapsed": true
   },
   "outputs": [],
   "source": []
  }
 ],
 "metadata": {
  "kernelspec": {
   "display_name": "Python 3",
   "language": "python",
   "name": "python3"
  },
  "language_info": {
   "codemirror_mode": {
    "name": "ipython",
    "version": 3
   },
   "file_extension": ".py",
   "mimetype": "text/x-python",
   "name": "python",
   "nbconvert_exporter": "python",
   "pygments_lexer": "ipython3",
   "version": "3.5.2"
  }
 },
 "nbformat": 4,
 "nbformat_minor": 2
}
