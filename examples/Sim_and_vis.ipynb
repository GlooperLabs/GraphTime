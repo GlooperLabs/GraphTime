{
 "cells": [
  {
   "cell_type": "markdown",
   "metadata": {},
   "source": [
    "# Example of how to simulate and visualise dynamic graphical models"
   ]
  },
  {
   "cell_type": "code",
   "execution_count": 1,
   "metadata": {
    "collapsed": false
   },
   "outputs": [],
   "source": [
    "import networkx as nx\n",
    "import matplotlib.pyplot as plt\n",
    "import sys\n",
    "sys.path.append('../')\n",
    "\n",
    "from graphtime import GroupFusedGraphLasso\n",
    "from graphtime.simulate import DynamicGraphicalModel\n",
    "from graphtime.utils import get_change_points, plot_data_with_cps\n",
    "from graphtime.vis import plot_graph"
   ]
  },
  {
   "cell_type": "code",
   "execution_count": 2,
   "metadata": {
    "collapsed": false
   },
   "outputs": [],
   "source": [
    "# 1. Create Example Data\n",
    "n_vertices = 10\n",
    "n_edges = [10, 5]  # amount of edges in two sparse graphical models\n",
    "T = 60  # sample length\n",
    "changepoints = [30]  # change point indices\n",
    "DGS = DynamicGraphicalModel(n_vertices, seed=2)\n",
    "DGS.create_graphs(n_edges, use_seed=True)\n",
    "X = DGS.sample(T, changepoints, use_seed=True)\n"
   ]
  },
  {
   "cell_type": "code",
   "execution_count": 3,
   "metadata": {
    "collapsed": false
   },
   "outputs": [
    {
     "ename": "ParseError",
     "evalue": "mismatched tag: line 1, column 461 (<string>)",
     "output_type": "error",
     "traceback": [
      "\u001b[0;36m  File \u001b[0;32m\"<string>\"\u001b[0;36m, line \u001b[0;32munknown\u001b[0m\n\u001b[0;31mParseError\u001b[0m\u001b[0;31m:\u001b[0m mismatched tag: line 1, column 461\n"
     ]
    }
   ],
   "source": [
    "# Look at one of the graphs\n",
    "plot_graph(DGS, 0)"
   ]
  },
  {
   "cell_type": "code",
   "execution_count": null,
   "metadata": {
    "collapsed": true
   },
   "outputs": [],
   "source": []
  }
 ],
 "metadata": {
  "kernelspec": {
   "display_name": "Python 3",
   "language": "python",
   "name": "python3"
  },
  "language_info": {
   "codemirror_mode": {
    "name": "ipython",
    "version": 3
   },
   "file_extension": ".py",
   "mimetype": "text/x-python",
   "name": "python",
   "nbconvert_exporter": "python",
   "pygments_lexer": "ipython3",
   "version": "3.6.0"
  }
 },
 "nbformat": 4,
 "nbformat_minor": 2
}
