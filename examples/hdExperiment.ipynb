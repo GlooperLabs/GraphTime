{
 "cells": [
  {
   "cell_type": "markdown",
   "metadata": {},
   "source": [
    "# Graph Recovery Performance in High Dimensions\n",
    "\n",
    "Assess how well GFGL can recover both the precision matrix structure and change-points as a function of problem size. The ideas is to fix the number of data-points across a set of experiments performed with different numbers of variables. The number of jumps/changepoints will be fixed, but the size of these jumps can be varied. Consider the convex combination:\n",
    "\n",
    "Theta[2] = alpha x Theta[1] + (1-alpha) x Theta[3]\n",
    "\n",
    "For each experiment I fix:\n",
    "- T=180  // Number of data points\n",
    "- cps = [60,120]  // Changepoint positions\n",
    "- s = 0.2*p // Number of active edges\n",
    "\n",
    "and vary:\n",
    "- p = [5,10,20]  // Dimension of problem\n",
    "- alpha = [0.15, 0.25, 0.35, 0.5]  // Size of jump\n"
   ]
  },
  {
   "cell_type": "code",
   "execution_count": 4,
   "metadata": {
    "collapsed": true
   },
   "outputs": [],
   "source": [
    "import networkx as nx\n",
    "import matplotlib.pyplot as plt\n",
    "import sys\n",
    "sys.path.append('../')\n",
    "\n",
    "from graphtime import GroupFusedGraphLasso\n",
    "from graphtime.simulate import *\n",
    "from graphtime.utils import get_change_points, plot_data_with_cps"
   ]
  },
  {
   "cell_type": "code",
   "execution_count": 6,
   "metadata": {},
   "outputs": [],
   "source": [
    "for p in [5,10,20]:\n",
    "    s = 0.2*p # Sparsity for this size of experiment\n",
    "    for alpha in [0.15,0.25,0.35,0.5]:\n",
    "        # Simulate graphs\n",
    "        for k in [0,1,2]:\n",
    "            DGS = DynamicGraphicalModel(p, seed=2)\n",
    "            DGS.graphs = ErdosRenyiPrecisionGraph(DGS.n_vertices, s)\n",
    "            "
   ]
  },
  {
   "cell_type": "code",
   "execution_count": null,
   "metadata": {
    "collapsed": true
   },
   "outputs": [],
   "source": []
  }
 ],
 "metadata": {
  "kernelspec": {
   "display_name": "Python 3",
   "language": "python",
   "name": "python3"
  },
  "language_info": {
   "codemirror_mode": {
    "name": "ipython",
    "version": 3
   },
   "file_extension": ".py",
   "mimetype": "text/x-python",
   "name": "python",
   "nbconvert_exporter": "python",
   "pygments_lexer": "ipython3",
   "version": "3.6.1"
  }
 },
 "nbformat": 4,
 "nbformat_minor": 2
}
